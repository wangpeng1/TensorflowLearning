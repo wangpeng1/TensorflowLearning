{
 "cells": [
  {
   "cell_type": "code",
   "execution_count": 13,
   "metadata": {},
   "outputs": [],
   "source": [
    "import matplotlib.pyplot as plt\n",
    "import numpy as np\n",
    "import tensorflow as tf\n",
    "from sklearn import datasets\n",
    "from tensorflow.python.framework import ops\n",
    "ops.reset_default_graph()"
   ]
  },
  {
   "cell_type": "code",
   "execution_count": 14,
   "metadata": {
    "collapsed": true
   },
   "outputs": [],
   "source": [
    "sess = tf.Session()\n",
    "\n",
    "\n",
    "# Load the data\n",
    "# iris.data = [(Sepal Length, Sepal Width, Petal Length, Petal Width)]\n",
    "iris = datasets.load_iris()\n",
    "x_vals = np.array([x[3] for x in iris.data])\n",
    "y_vals = np.array([y[0] for y in iris.data])\n",
    "\n",
    "# Declare batch size\n",
    "batch_size = 25"
   ]
  },
  {
   "cell_type": "code",
   "execution_count": 15,
   "metadata": {
    "collapsed": true
   },
   "outputs": [],
   "source": [
    "\n",
    "# Initialize placeholders\n",
    "x_data = tf.placeholder(shape=[None, 1], dtype=tf.float32)\n",
    "y_target = tf.placeholder(shape=[None, 1], dtype=tf.float32)\n",
    "\n",
    "# Create variables for linear regression\n",
    "A = tf.Variable(tf.random_normal(shape=[1,1]))\n",
    "b = tf.Variable(tf.random_normal(shape=[1,1]))\n",
    "\n",
    "# Declare model operations\n",
    "model_output = tf.add(tf.matmul(x_data, A), b)\n",
    "\n",
    "# Declare loss function (L2 loss)\n",
    "loss = tf.reduce_mean(tf.square(y_target - model_output))"
   ]
  },
  {
   "cell_type": "code",
   "execution_count": 16,
   "metadata": {},
   "outputs": [
    {
     "name": "stdout",
     "output_type": "stream",
     "text": [
      "WARNING:tensorflow:From D:\\Anaconda3\\envs\\tensorflow\\lib\\site-packages\\tensorflow\\python\\util\\tf_should_use.py:170: initialize_all_variables (from tensorflow.python.ops.variables) is deprecated and will be removed after 2017-03-02.\n",
      "Instructions for updating:\n",
      "Use `tf.global_variables_initializer` instead.\n",
      "Step #25 A = [[ 2.35945654]] b = [[ 2.39510584]]\n",
      "Loss = 1.45218\n",
      "Step #50 A = [[ 1.80787003]] b = [[ 3.40075946]]\n",
      "Loss = 0.540809\n",
      "Step #75 A = [[ 1.44786119]] b = [[ 3.97190332]]\n",
      "Loss = 0.645505\n",
      "Step #100 A = [[ 1.22823894]] b = [[ 4.26024199]]\n",
      "Loss = 0.359142\n"
     ]
    }
   ],
   "source": [
    "# Declare optimizer\n",
    "my_opt = tf.train.GradientDescentOptimizer(0.05)\n",
    "train_step = my_opt.minimize(loss)\n",
    "\n",
    "# Initialize variables\n",
    "init = tf.initialize_all_variables()\n",
    "sess.run(init)\n",
    "\n",
    "# Training loop\n",
    "loss_vec = []\n",
    "for i in range(100):\n",
    "    rand_index = np.random.choice(len(x_vals), size=batch_size)\n",
    "    rand_x = np.transpose([x_vals[rand_index]])\n",
    "    rand_y = np.transpose([y_vals[rand_index]])\n",
    "    sess.run(train_step, feed_dict={x_data: rand_x, y_target: rand_y})\n",
    "    temp_loss = sess.run(loss, feed_dict={x_data: rand_x, y_target: rand_y})\n",
    "    loss_vec.append(temp_loss)\n",
    "    if (i+1)%25==0:\n",
    "        print('Step #' + str(i+1) + ' A = ' + str(sess.run(A)) + ' b = ' + str(sess.run(b)))\n",
    "        print('Loss = ' + str(temp_loss))"
   ]
  },
  {
   "cell_type": "code",
   "execution_count": 23,
   "metadata": {},
   "outputs": [
    {
     "name": "stdout",
     "output_type": "stream",
     "text": [
      "[array([[ 1.22823894]], dtype=float32)] (1, 1)\n",
      "[[ 4.50588989]]\n"
     ]
    }
   ],
   "source": [
    "\n",
    "# Get the optimal coefficients\n",
    "slope = sess.run(A)\n",
    "y_intercept= sess.run(b)\n",
    "print([slope],slope.shape)\n",
    "# Get best fit line\n",
    "best_fit = []\n",
    "for i in x_vals:\n",
    "    best_fit.append(slope*i+y_intercept)\n",
    "print(best_fit[0])"
   ]
  },
  {
   "cell_type": "code",
   "execution_count": 10,
   "metadata": {},
   "outputs": [
    {
     "name": "stdout",
     "output_type": "stream",
     "text": [
      "[ 1.02955493  0.90297499  1.13918042  0.85575986  0.85498666  1.02713394\n",
      "  1.24190188  1.32801963  1.07836455  0.97049044  0.87939666  0.96056422\n",
      "  0.85975245  0.98506383  1.08245232  0.98401641  0.89723379  1.01538099\n",
      "  0.91320253  1.11764536  0.96963497  1.03924434  1.0475442   1.04980949\n",
      "  0.91426489  0.83650217  0.96378746  0.95678432  0.86378692  1.02528421\n",
      "  1.057361    1.08396576  1.06020269  0.93430684  1.03750015  1.02546718\n",
      "  0.87798935  1.04340096  0.99627304  0.98568211  0.95291888  1.04599941\n",
      "  1.06766899  1.0765792   0.97038885  0.96789322  1.00191793  1.07573628\n",
      "  0.99735553  1.14274474  1.03408997  0.89986877  0.90043002  0.86539322\n",
      "  0.99058403  1.07623628  1.02023234  1.1657163   1.01834713  0.95027147\n",
      "  0.79876498  1.04427333  0.89716481  1.01780786  0.94261271  0.79401156\n",
      "  0.91539828  1.15563146  0.97524454  1.02959379  0.98906561  1.00537291\n",
      "  0.89241242  0.93940508  1.0699237   1.24941138  1.06835243  0.97490328\n",
      "  0.99791763  1.05833682  1.02749223  1.02862289  1.11765387  1.1972233\n",
      "  0.86889381  0.95750394  1.05287688  1.08115364  0.86950286  0.95139486\n",
      "  1.11516565  1.08005507  0.9477492   0.91572399  0.86647818  0.912515\n",
      "  0.9678881   1.03318175  0.9509404   0.92837814]\n",
      "[13 68 90 56  8 98 23 20 13 56 64 67 76 74 25  8 57 93 93 77  5 86 55 91 55]\n",
      "[[ 0.98506383]\n",
      " [ 0.97524454]\n",
      " [ 1.11516565]\n",
      " [ 1.02023234]\n",
      " [ 1.07836455]\n",
      " [ 0.9509404 ]\n",
      " [ 1.04980949]\n",
      " [ 0.96963497]\n",
      " [ 0.98506383]\n",
      " [ 1.02023234]\n",
      " [ 0.94261271]\n",
      " [ 1.15563146]\n",
      " [ 1.06835243]\n",
      " [ 1.0699237 ]\n",
      " [ 0.83650217]\n",
      " [ 1.07836455]\n",
      " [ 1.1657163 ]\n",
      " [ 0.91572399]\n",
      " [ 0.91572399]\n",
      " [ 0.97490328]\n",
      " [ 1.02713394]\n",
      " [ 1.05287688]\n",
      " [ 1.07623628]\n",
      " [ 1.08005507]\n",
      " [ 1.07623628]]\n"
     ]
    }
   ],
   "source": [
    "x_vals = np.random.normal(1, 0.1, 100)\n",
    "print(x_vals)\n",
    "rand_index = np.random.choice(100, size=25)\n",
    "print(rand_index)\n",
    "rand_x = np.transpose([x_vals[rand_index]])\n",
    "print(rand_x)"
   ]
  },
  {
   "cell_type": "code",
   "execution_count": 12,
   "metadata": {},
   "outputs": [
    {
     "name": "stdout",
     "output_type": "stream",
     "text": [
      "[[[0]\n",
      "  [1]\n",
      "  [2]]] (1, 3, 1)\n",
      "_________\n",
      "[0 1 2] (3,)\n"
     ]
    }
   ],
   "source": [
    "x = np.array([[[0], [1], [2]]])\n",
    "print(x,x.shape) \n",
    "print(\"_________\")\n",
    "x1=np.squeeze(x);\n",
    "print(x1,x1.shape)"
   ]
  }
 ],
 "metadata": {
  "kernelspec": {
   "display_name": "Python 3",
   "language": "python",
   "name": "python3"
  },
  "language_info": {
   "codemirror_mode": {
    "name": "ipython",
    "version": 3
   },
   "file_extension": ".py",
   "mimetype": "text/x-python",
   "name": "python",
   "nbconvert_exporter": "python",
   "pygments_lexer": "ipython3",
   "version": "3.5.3"
  }
 },
 "nbformat": 4,
 "nbformat_minor": 2
}
