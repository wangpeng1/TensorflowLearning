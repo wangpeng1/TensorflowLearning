{
 "cells": [
  {
   "cell_type": "code",
   "execution_count": 9,
   "metadata": {
    "collapsed": true
   },
   "outputs": [
    {
     "name": "stdout",
     "output_type": "stream",
     "text": [
      "0 0.282843 0.223607\n20 1.79652 1.45326\n40 1.91645 1.18621\n60 1.95762 0.990344\n80 1.97112 0.979608\n100 1.94494 0.947154\n120 1.95105 0.951653\n140 1.94987 0.95003\n160 1.94993 0.949971\n180 1.95005 0.950063\n200 1.94997 0.949973\n220 1.95001 0.950014\n240 1.94999 0.949995\n260 1.95 0.950002\n"
     ]
    },
    {
     "name": "stdout",
     "output_type": "stream",
     "text": [
      "280 1.95 0.949999\n300 1.95 0.95\n320 1.95 0.95\n340 1.95 0.95\n360 1.95 0.95\n380 1.95 0.95\n400 1.95 0.95\n420 1.95 0.95\n440 1.95 0.95\n460 1.95 0.95\n480 1.95 0.95\n500 1.95 0.95\n"
     ]
    }
   ],
   "source": [
    "# linear regression using huber loss\n",
    "# huber loss is a function used in robust regression, that is less sensitive to outliers in\n",
    "# data than the squared error loss - Wiki\n",
    "\n",
    "# if the difference between the predicted value and the real value is small, square it\n",
    "# if it is not, take its absolute value\n",
    "\n",
    "import tensorflow as tf\n",
    "\n",
    "# def huber loss function\n",
    "def huber_loss(labels, predictions, delta):\n",
    "    residual = tf.abs(predictions - labels)\n",
    "\n",
    "    condition = tf.less(residual, delta)\n",
    "    \n",
    "    small_res = 0.5 * tf.square(residual)\n",
    "    \n",
    "    large_res = delta * residual - 0.5 * tf.square(delta)\n",
    "\n",
    "    return tf.where(condition, small_res, large_res)\n",
    "\n",
    "\n",
    "x = [1, 2, 3]\n",
    "y = [3, 5, 7]\n",
    "\n",
    "X = tf.placeholder(tf.float32)\n",
    "Y = tf.placeholder(tf.float32)\n",
    "\n",
    "w = tf.Variable(0.0, name=\"weight\")\n",
    "b = tf.Variable(0.0, name=\"bias\")\n",
    "\n",
    "hypothesis = w*X + b\n",
    "\n",
    "# setting the cost function using huber loss\n",
    "cost = huber_loss(Y, hypothesis, 1.0)\n",
    "#cost = tf.reduce_mean(tf.square(hypothesis-Y))\n",
    "\n",
    "optimizer = tf.train.RMSPropOptimizer(learning_rate=0.1).minimize(cost)\n",
    "\n",
    "# testing\n",
    "with tf.Session() as sess:\n",
    "    sess.run(tf.global_variables_initializer())\n",
    "    \n",
    "    for i in xrange(501):\n",
    "        sess.run(optimizer, feed_dict={X:x, Y:y})\n",
    "        if i % 20 == 0:\n",
    "            print i, sess.run(w), sess.run(b)"
   ]
  },
  {
   "cell_type": "code",
   "execution_count": null,
   "metadata": {},
   "outputs": [],
   "source": [
    ""
   ]
  }
 ],
 "metadata": {
  "kernelspec": {
   "display_name": "Python 2",
   "language": "python",
   "name": "python2"
  },
  "language_info": {
   "codemirror_mode": {
    "name": "ipython",
    "version": 2.0
   },
   "file_extension": ".py",
   "mimetype": "text/x-python",
   "name": "python",
   "nbconvert_exporter": "python",
   "pygments_lexer": "ipython2",
   "version": "2.7.6"
  }
 },
 "nbformat": 4,
 "nbformat_minor": 0
}