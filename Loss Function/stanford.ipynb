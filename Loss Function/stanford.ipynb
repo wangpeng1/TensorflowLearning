{
 "cells": [
  {
   "cell_type": "code",
   "execution_count": 43,
   "metadata": {},
   "outputs": [
    {
     "name": "stdout",
     "output_type": "stream",
     "text": [
      "[[   6.2   29. ]\n",
      " [   9.5   44. ]\n",
      " [  10.5   36. ]\n",
      " [   7.7   37. ]\n",
      " [   8.6   53. ]\n",
      " [  34.1   68. ]\n",
      " [  11.    75. ]\n",
      " [   6.9   18. ]\n",
      " [   7.3   31. ]\n",
      " [  15.1   25. ]\n",
      " [  29.1   34. ]\n",
      " [   2.2   14. ]\n",
      " [   5.7   11. ]\n",
      " [   2.    11. ]\n",
      " [   2.5   22. ]\n",
      " [   4.    16. ]\n",
      " [   5.4   27. ]\n",
      " [   2.2    9. ]\n",
      " [   7.2   29. ]\n",
      " [  15.1   30. ]\n",
      " [  16.5   40. ]\n",
      " [  18.4   32. ]\n",
      " [  36.2   41. ]\n",
      " [  39.7  147. ]\n",
      " [  18.5   22. ]\n",
      " [  23.3   29. ]\n",
      " [  12.2   46. ]\n",
      " [   5.6   23. ]\n",
      " [  21.8    4. ]\n",
      " [  21.6   31. ]\n",
      " [   9.    39. ]\n",
      " [   3.6   15. ]\n",
      " [   5.    32. ]\n",
      " [  28.6   27. ]\n",
      " [  17.4   32. ]\n",
      " [  11.3   34. ]\n",
      " [   3.4   17. ]\n",
      " [  11.9   46. ]\n",
      " [  10.5   42. ]\n",
      " [  10.7   43. ]\n",
      " [  10.8   34. ]\n",
      " [   4.8   19. ]]\n"
     ]
    }
   ],
   "source": [
    "# this is basic concept of linear regression\n",
    "# example is revised from tf-stanford-tutorials\n",
    "# get a correlation between number of fire, number of theft\n",
    "# in excel file {x : number of fire}, {y : number of theft}\n",
    "\n",
    "import tensorflow as tf\n",
    "import matplotlib.pyplot as plt\n",
    "import xlrd\n",
    "import numpy as np\n",
    "\n",
    "# data file path\n",
    "DATA_FILE = 'data/fire_theft.xls'\n",
    "\n",
    "# read files from excel sheet (xlrd, numpy)\n",
    "book = xlrd.open_workbook(DATA_FILE, encoding_override='utf-8')\n",
    "sheet = book.sheet_by_index(0)\n",
    "data = np.asarray([sheet.row_values(i) for i in range(1, sheet.nrows)])\n",
    "n_samples = sheet.nrows - 1\n",
    "\n",
    "print (data)\n",
    "\n",
    "# another approach for testing can be like below\n",
    "# X = np.linspace(-1, 1, 100)\n",
    "# Y = X * 3 + np.random.randn(X.shape[0]) * 0.5\n",
    "# get a loss of model"
   ]
  },
  {
   "cell_type": "code",
   "execution_count": 44,
   "metadata": {
    "collapsed": true
   },
   "outputs": [],
   "source": [
    "# process placeholder\n",
    "X = tf.placeholder(tf.float32, name=\"X\")\n",
    "Y = tf.placeholder(tf.float32, name=\"Y\")\n",
    "\n",
    "# define w,b ( random value )\n",
    "w = tf.Variable(0.0, name=\"weights\")\n",
    "b = tf.Variable(0.0, name=\"bias\")\n",
    "\n",
    "# define hyopthesis\n",
    "hypothesis = X*w+b\n",
    "\n",
    "# linear regression cost function & process gradientDescent algorithm\n",
    "# cost is same meaning of loss ( real value - hypothesis )^2\n",
    "# GradientDescent algorithm optimizes the cost (almost converge 0)\n",
    "cost = tf.reduce_mean(tf.square(Y-hypothesis, name=\"cost\"))\n",
    "optimizer = tf.train.GradientDescentOptimizer(learning_rate=0.1).minimize(cost)"
   ]
  },
  {
   "cell_type": "code",
   "execution_count": 49,
   "metadata": {},
   "outputs": [
    {
     "name": "stdout",
     "output_type": "stream",
     "text": [
      "tensorflow variable, session opened!\n",
      "Epoch 0: inf\n",
      "Epoch 1: nan\n",
      "Epoch 2: nan\n",
      "Epoch 3: nan\n",
      "Epoch 4: nan\n",
      "Epoch 5: nan\n",
      "Epoch 6: nan\n",
      "Epoch 7: nan\n",
      "Epoch 8: nan\n",
      "Epoch 9: nan\n",
      "w :  nan\n",
      "b :  nan\n"
     ]
    }
   ],
   "source": [
    "with tf.Session() as sess:\n",
    "    \n",
    "    # TF-VERSION 1.0 CHANGED METHOD\n",
    "    sess.run(tf.global_variables_initializer()) \n",
    "    print ('tensorflow variable, session opened!')\n",
    "    \n",
    "    # train the model 100 times\n",
    "    for i in range(10):\n",
    "        total_loss = 0\n",
    "        for x, y in data:\n",
    "            _, l = sess.run([optimizer, cost], feed_dict={X: x, Y: y})\n",
    "            total_loss += l\n",
    "        print ('Epoch {0}: {1}'.format(i, total_loss / n_samples))\n",
    "        \n",
    "    # Step 9: output the values of w and b\n",
    "    w_value, b_value = sess.run([w, b])\n",
    "    print ('w : ', w_value)\n",
    "    print (\"b : \", b_value)"
   ]
  },
  {
   "cell_type": "code",
   "execution_count": null,
   "metadata": {},
   "outputs": [],
   "source": [
    "# plot the results\n",
    "X, Y = data.T[0], data.T[1]\n",
    "print ('x ', x,'y ', y)\n",
    "print ('x ', data[0],'y ', data[1])\n",
    "plt.plot(X, Y, 'bo', label='Real data')\n",
    "plt.plot(X, X * w_value + b_value, 'r', label='Predicted data')\n",
    "plt.legend()\n",
    "plt.show()"
   ]
  },
  {
   "cell_type": "code",
   "execution_count": null,
   "metadata": {
    "collapsed": true
   },
   "outputs": [],
   "source": []
  }
 ],
 "metadata": {
  "kernelspec": {
   "display_name": "Python 3",
   "language": "python",
   "name": "python3"
  },
  "language_info": {
   "codemirror_mode": {
    "name": "ipython",
    "version": 3
   },
   "file_extension": ".py",
   "mimetype": "text/x-python",
   "name": "python",
   "nbconvert_exporter": "python",
   "pygments_lexer": "ipython3",
   "version": "3.5.3"
  }
 },
 "nbformat": 4,
 "nbformat_minor": 1
}
