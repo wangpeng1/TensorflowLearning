{
 "cells": [
  {
   "cell_type": "code",
   "execution_count": 19,
   "metadata": {},
   "outputs": [
    {
     "name": "stdout",
     "output_type": "stream",
     "text": [
      "[[ 1.  1.  1.  1.  1.  1.]\n",
      " [ 2.  3.  3.  5.  7.  2.]\n",
      " [ 1.  2.  4.  5.  5.  5.]\n",
      " [ 0.  0.  0.  1.  1.  1.]]\n",
      "-----------------------------------------\n",
      "[[ 1.  1.  1.  1.  1.  1.]\n",
      " [ 2.  3.  3.  5.  7.  2.]\n",
      " [ 1.  2.  4.  5.  5.  5.]]\n",
      "-----------------------------------------\n",
      "[ 0.  0.  0.  1.  1.  1.]\n",
      "(1, 3)\n",
      "0 0.403011 [[ 0.21238066 -0.28021052  0.70771551]]\n",
      "100 -0.0224175 [[-0.22211769 -1.30895209  0.55490321]]\n",
      "200 -0.0504703 [[-0.32861289 -1.71382904  0.87553763]]\n",
      "300 -0.065772 [[-0.39772567 -2.0311501   1.09192598]]\n",
      "400 -0.0752383 [[-0.44529817 -2.28593898  1.25691652]]\n",
      "500 -0.0816623 [[-0.48041162 -2.49814773  1.39057922]]\n",
      "600 -0.0863092 [[-0.50771552 -2.67987108  1.50304353]]\n",
      "700 -0.0898285 [[-0.52978182 -2.83875823  1.60017669]]\n",
      "800 -0.0925874 [[-0.54814523 -2.97991157  1.685691  ]]\n",
      "900 -0.0948089 [[-0.56377798 -3.10690188  1.76208901]]\n",
      "1000 -0.0966367 [[-0.57732975 -3.22231793  1.8311398 ]]\n",
      "-----------------------------------------\n",
      "[[False]]\n",
      "[[False]]\n",
      "[[False]]\n",
      "[[False]]\n",
      "[[False]]\n",
      "[[False]]\n",
      "[[False]]\n"
     ]
    }
   ],
   "source": [
    "import tensorflow as tf\n",
    "import numpy as np\n",
    "\n",
    "#load training data to array\n",
    "# unpack=True 和文件中的相反即转置\n",
    "xy = np.loadtxt('train.txt', unpack=True, dtype='float32')\n",
    "print (xy )\n",
    "print ('-----------------------------------------')\n",
    "# x is training data & y is result(binary classification)\n",
    "#[0:-1] 不取最后一行 [0:]取最后一行\n",
    "x = xy[0:-1]\n",
    "y = xy[-1]\n",
    "print (x )\n",
    "print ('-----------------------------------------')\n",
    "print (y )\n",
    "# process placeholder\n",
    "X = tf.placeholder(tf.float32)\n",
    "Y = tf.placeholder(tf.float32)\n",
    "\n",
    "# define W, h and hypothesis(Logistic Classification)\n",
    "# sigmoid hypothesis = 1/1+e^h\n",
    "W = tf.Variable(tf.random_uniform([1, len(x)], -1.0, 1.0))\n",
    "print(W.shape)\n",
    "# this is W*X\n",
    "h = tf.matmul(W, X)\n",
    "hypothesis = tf.div(1., 1.+tf.exp(-h))\n",
    "\n",
    "# cost function(logistic, can get global minimum using GradientDescent algorithm)\n",
    "cost = -tf.reduce_mean(Y*tf.log(1+hypothesis)+(1-Y)*tf.log(1-hypothesis))\n",
    "\n",
    "# minimizing cost function(cause' convex function)\n",
    "a = tf.Variable(0.1)\n",
    "optimizer = tf.train.GradientDescentOptimizer(a)\n",
    "trained_data = optimizer.minimize(cost)\n",
    "\n",
    "init = tf.global_variables_initializer()\n",
    "session = tf.Session()\n",
    "session.run(init)\n",
    "\n",
    "# training matrix w\n",
    "for step in range(1001):\n",
    "    session.run(trained_data, feed_dict={X:x, Y:y})\n",
    "    if step%100 == 0:\n",
    "        print (step, session.run(cost, feed_dict={X:x, Y:y}), session.run(W))\n",
    "\n",
    "\n",
    "# examine classification attention iuput x only three ，not six\n",
    "print ('-----------------------------------------')\n",
    "print (session.run(hypothesis, feed_dict={X:[[1], [2], [2]]}) > 0.5)\n",
    "print (session.run(hypothesis, feed_dict={X:[[1], [3], [4]]}) > 0.5)\n",
    "print (session.run(hypothesis, feed_dict={X:[[1], [4], [4]]}) > 0.5)\n",
    "print (session.run(hypothesis, feed_dict={X:[[1], [4], [5]]}) > 0.5)\n",
    "print (session.run(hypothesis, feed_dict={X:[[1], [5], [4]]}) > 0.5)\n",
    "print (session.run(hypothesis, feed_dict={X:[[1], [5], [5]]}) > 0.5)\n",
    "print (session.run(hypothesis, feed_dict={X:[[1], [7], [7]]}) > 0.5)\n",
    "\n",
    "\n"
   ]
  },
  {
   "cell_type": "code",
   "execution_count": null,
   "metadata": {
    "collapsed": true
   },
   "outputs": [],
   "source": []
  }
 ],
 "metadata": {
  "kernelspec": {
   "display_name": "Python 3",
   "language": "python",
   "name": "python3"
  },
  "language_info": {
   "codemirror_mode": {
    "name": "ipython",
    "version": 3
   },
   "file_extension": ".py",
   "mimetype": "text/x-python",
   "name": "python",
   "nbconvert_exporter": "python",
   "pygments_lexer": "ipython3",
   "version": "3.5.3"
  }
 },
 "nbformat": 4,
 "nbformat_minor": 2
}
